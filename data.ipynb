{
 "cells": [
  {
   "cell_type": "code",
   "execution_count": 6,
   "metadata": {},
   "outputs": [
    {
     "data": {
      "text/plain": [
       "dict_keys(['CVR_L1', 'CVR_L2', 'CVAH_L1', 'CVAH_L2', 'Pinch_Roll_L1', 'Pinch_Roll_L2', 'HMD', 'SH1', 'SH2', 'SH3', 'Stand_01-06', 'Stand_07-12', 'Stand_13-18', 'FURNACE EXIT'])"
      ]
     },
     "execution_count": 6,
     "metadata": {},
     "output_type": "execute_result"
    }
   ],
   "source": [
    "import pickle\n",
    "import pandas as pd\n",
    "\n",
    "with open('./regionwise_columns.pickle', 'rb') as f:\n",
    "    sensor_data = pickle.load(f)\n",
    "\n",
    "df_list = []\n",
    "\n",
    "for region_id, sensor_ids in sensor_data.items():\n",
    "    for sensor_id in sensor_ids:\n",
    "        df_list.append({'Region_ID': region_id, 'Sensor_ID': sensor_id})\n",
    "\n",
    "sensor_data.keys()"
   ]
  },
  {
   "cell_type": "code",
   "execution_count": 7,
   "metadata": {},
   "outputs": [],
   "source": [
    "import os\n",
    "import pandas as pd\n",
    "folder_path = './231107/'\n",
    "\n",
    "dfs = []\n",
    "\n",
    "for file_name in os.listdir(folder_path):\n",
    "    if file_name.endswith('.txt'):\n",
    "        file_path = os.path.join(folder_path, file_name)\n",
    "        df = pd.read_csv(file_path, delimiter='\\t')\n",
    "        df['Time'] = pd.to_datetime(df['Time'])\n",
    "        dfs.append(df)\n",
    "merged_df = pd.concat(dfs, ignore_index=True)\n",
    "merged_df.sort_values(by='Time', inplace=True)\n",
    "merged_df.reset_index(drop=True, inplace=True)"
   ]
  },
  {
   "cell_type": "code",
   "execution_count": 8,
   "metadata": {},
   "outputs": [
    {
     "data": {
      "text/plain": [
       "Index(['[1:0]', '[1:1]', '[1:2]', '[1:3]', '[1:4]', '[1:5]', '[1:6]', '[1:7]',\n",
       "       '[1:8]', '[1:9]',\n",
       "       ...\n",
       "       '[26.114]', '[26.115]', '[26.116]', '[26.117]', '[26.118]', '[26.119]',\n",
       "       '[26.120]', '[26.121]', '[26.122]', '[26.123]'],\n",
       "      dtype='object', length=2623)"
      ]
     },
     "execution_count": 8,
     "metadata": {},
     "output_type": "execute_result"
    }
   ],
   "source": [
    "merged_df.columns[1:]"
   ]
  }
 ],
 "metadata": {
  "kernelspec": {
   "display_name": "Python 3",
   "language": "python",
   "name": "python3"
  },
  "language_info": {
   "codemirror_mode": {
    "name": "ipython",
    "version": 3
   },
   "file_extension": ".py",
   "mimetype": "text/x-python",
   "name": "python",
   "nbconvert_exporter": "python",
   "pygments_lexer": "ipython3",
   "version": "3.11.4"
  }
 },
 "nbformat": 4,
 "nbformat_minor": 2
}
